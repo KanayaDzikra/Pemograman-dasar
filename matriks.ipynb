{
  "nbformat": 4,
  "nbformat_minor": 0,
  "metadata": {
    "colab": {
      "provenance": [],
      "authorship_tag": "ABX9TyMgt2pTp51eKhSfHH+voPuk",
      "include_colab_link": true
    },
    "kernelspec": {
      "name": "python3",
      "display_name": "Python 3"
    },
    "language_info": {
      "name": "python"
    }
  },
  "cells": [
    {
      "cell_type": "markdown",
      "metadata": {
        "id": "view-in-github",
        "colab_type": "text"
      },
      "source": [
        "<a href=\"https://colab.research.google.com/github/KanayaDzikra/Pemograman-dasar/blob/main/matriks.ipynb\" target=\"_parent\"><img src=\"https://colab.research.google.com/assets/colab-badge.svg\" alt=\"Open In Colab\"/></a>"
      ]
    },
    {
      "cell_type": "markdown",
      "source": [
        "Dideklarasikan 2 buah matriks, misalnya M dan MTranspose\n",
        "\n",
        "* MTranspose menampung hasil transpose dari M\n",
        "* Ukuran baris M = ukuran kolom MTranspose\n",
        "* Ukuran kolom M = ukuran baris Mtranspose\n",
        "* Mtranspose[i][j] = M[j][i]"
      ],
      "metadata": {
        "id": "sKwCS6SP4_QJ"
      }
    },
    {
      "cell_type": "code",
      "execution_count": 1,
      "metadata": {
        "colab": {
          "base_uri": "https://localhost:8080/"
        },
        "id": "QwOzUBn6xbDD",
        "outputId": "57ab04be-1e21-4341-ff7b-29b3865e079d"
      },
      "outputs": [
        {
          "output_type": "stream",
          "name": "stdout",
          "text": [
            "Matriks Asli (M):\n",
            "[1, 2, 3]\n",
            "[4, 5, 6]\n",
            "[7, 8, 9]\n",
            "\n",
            "Matriks Transpose (MTranspose):\n",
            "[1, 4, 7]\n",
            "[2, 5, 8]\n",
            "[3, 6, 9]\n"
          ]
        }
      ],
      "source": [
        "M = [\n",
        "    [1, 2, 3],\n",
        "    [4, 5, 6],\n",
        "    [7, 8, 9]\n",
        "]\n",
        "\n",
        "baris = len(M)\n",
        "kolom = len(M[0])\n",
        "\n",
        "MTranspose = [[0 for _ in range(baris)] for _ in range(kolom)]\n",
        "\n",
        "for i in range(baris):\n",
        "    for j in range(kolom):\n",
        "        MTranspose[j][i] = M[i][j]\n",
        "\n",
        "print(\"Matriks Asli (M):\")\n",
        "for row in M:\n",
        "    print(row)\n",
        "\n",
        "print(\"\\nMatriks Transpose (MTranspose):\")\n",
        "for row in MTranspose:\n",
        "    print(row)"
      ]
    }
  ]
}