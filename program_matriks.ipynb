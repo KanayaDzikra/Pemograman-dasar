{
  "cells": [
    {
      "cell_type": "markdown",
      "metadata": {
        "id": "view-in-github",
        "colab_type": "text"
      },
      "source": [
        "<a href=\"https://colab.research.google.com/github/KanayaDzikra/Pemograman-dasar/blob/main/program_matriks.ipynb\" target=\"_parent\"><img src=\"https://colab.research.google.com/assets/colab-badge.svg\" alt=\"Open In Colab\"/></a>"
      ]
    },
    {
      "cell_type": "markdown",
      "metadata": {
        "id": "_bN6_LxQCJZT"
      },
      "source": [
        "#**🖥️👩🏻‍💻PRAKTIKUM PEMROGRAMAN LANJUT🔥**\n",
        "##**Pertemuan (3) MATRIKS (STRUKTUR) - Senin, 09 Desember 2024**\n",
        "\n",
        "👤 Nama: Kanaya Dzikra Setiadi / NRP: 2C2230015 / Kelas: III/A Sains Data\n",
        "\n",
        "💬Deskripsi Pembahasan Materi Matriks:\n",
        "\n",
        "1.1.  Definisi Matriks () 🔂\n",
        "- Sekumpulan informasi yang setiap individu elemennya terdefinisi berdasarkan dua buah indeks (yang biasanya dikonotasikan dengan baris dan kolom)\n",
        "\n",
        "- Setiap elemen matriks dapat diakses secara langsung jika kedua indeks diketahui.\n",
        "\n",
        "- Setiap elemen matriks mempunyai type yang homogen\n",
        "\n",
        "- Matriks adalah struktur data dengan memori internal. Struktur ini praktis untuk dipakai tetapi memakan memori!\n",
        "\n",
        "- Matriks integer 100 x 100 memakan 10000 x tempat penyimpanan integer.\n",
        "\n",
        "1.2. Contoh Pemakaian\n",
        "\n",
        "• Operasi “biasa” matriks dalam matematika : penjumlahan, perkalian, menentukan determinan, menginvers sebuah matriks, transpose, dll.\n",
        "\n",
        "• Semua \"perhitungan\" itu menjadi tidak primitif, harus diprogram\n",
        "\n",
        "  - Sistem persamaan linier dan operational research\n",
        "\n",
        "• Persoalan algoritmik: untuk menyimpan informasi yang cirinya ditentukan oleh 2 dimensi (diterjemahkan dalam baris dan kolom).\n",
        "  \n",
        "  - Contoh: cell pada sebuah spreadsheet, ruangan gedung bertingkat\n",
        "\n",
        "\n"
      ]
    },
    {
      "cell_type": "markdown",
      "metadata": {
        "id": "N0U2Qjks8P9F"
      },
      "source": [
        "#🤸🏻‍♀️ EKSPLORASI PRIBADI DI KELAS ✨"
      ]
    },
    {
      "cell_type": "code",
      "execution_count": 2,
      "metadata": {
        "id": "itmMcxv88OIm",
        "colab": {
          "base_uri": "https://localhost:8080/"
        },
        "outputId": "29eaec48-fffa-40ee-deb5-0eb626e686ca"
      },
      "outputs": [
        {
          "output_type": "stream",
          "name": "stdout",
          "text": [
            "[[0, 0, 0, 0, 0, 0, 0, 0, 0, 0, 0, 0, 0, 0, 0, 0, 0, 0, 0, 0], [0, 0, 0, 0, 0, 0, 0, 0, 0, 0, 0, 0, 0, 0, 0, 0, 0, 0, 0, 0], [0, 0, 0, 0, 0, 0, 0, 0, 0, 0, 0, 0, 0, 0, 0, 0, 0, 0, 0, 0], [0, 0, 0, 0, 0, 0, 0, 0, 0, 0, 0, 0, 0, 0, 0, 0, 0, 0, 0, 0], [0, 0, 0, 0, 0, 0, 0, 0, 0, 0, 0, 0, 0, 0, 0, 0, 0, 0, 0, 0], [0, 0, 0, 0, 0, 0, 0, 0, 0, 0, 0, 0, 0, 0, 0, 0, 0, 0, 0, 0], [0, 0, 0, 0, 0, 0, 0, 0, 0, 0, 0, 0, 0, 0, 0, 0, 0, 0, 0, 0], [0, 0, 0, 0, 0, 0, 0, 0, 0, 0, 0, 0, 0, 0, 0, 0, 0, 0, 0, 0], [0, 0, 0, 0, 0, 0, 0, 0, 0, 0, 0, 0, 0, 0, 0, 0, 0, 0, 0, 0], [0, 0, 0, 0, 0, 0, 0, 0, 0, 0, 0, 0, 0, 0, 0, 0, 0, 0, 0, 0]]\n"
          ]
        }
      ],
      "source": [
        "A = [[0 for j in range(20)]for i in range(10)]\n",
        "print (A)"
      ]
    },
    {
      "cell_type": "markdown",
      "metadata": {
        "id": "f1J9LJyv9-YC"
      },
      "source": [
        "- Interpretasi coding:\n",
        "\n",
        "- Interpretasi Hasil:"
      ]
    },
    {
      "cell_type": "code",
      "source": [
        "n = int(input())\n",
        "m = int(input())\n",
        "\n",
        "A = [[0 for j in range(m)]for i in range(n)]\n",
        "\n",
        "for i in range(n):\n",
        "  for j in range(m):\n",
        "    A[i][j] = int(input(\"Masukkan elemen baris\"+str(i+1)+\"kolom\"+str(j+1)+\":\"))\n",
        "\n",
        "for i in range(n):\n",
        "  for j in range(m):\n",
        "    print(A[i][j],end=\" \")\n",
        "  print()"
      ],
      "metadata": {
        "colab": {
          "base_uri": "https://localhost:8080/"
        },
        "id": "_ozOSiEzgL-r",
        "outputId": "30357890-7ac3-4609-cd83-5a9660d0e52f"
      },
      "execution_count": 3,
      "outputs": [
        {
          "output_type": "stream",
          "name": "stdout",
          "text": [
            "3\n",
            "3\n",
            "Masukkan elemen baris1kolom1:1\n",
            "Masukkan elemen baris1kolom2:2\n",
            "Masukkan elemen baris1kolom3:3\n",
            "Masukkan elemen baris2kolom1:4\n",
            "Masukkan elemen baris2kolom2:5\n",
            "Masukkan elemen baris2kolom3:6\n",
            "Masukkan elemen baris3kolom1:7\n",
            "Masukkan elemen baris3kolom2:8\n",
            "Masukkan elemen baris3kolom3:9\n",
            "1 2 3 \n",
            "4 5 6 \n",
            "7 8 9 \n"
          ]
        }
      ]
    },
    {
      "cell_type": "markdown",
      "source": [
        "- Interpretasi coding : karna masukan 3 dan 3 makan kolomnya bereskan dulu sampai 3 baru baris kedua sampai kolom ke 3 kemudian baris ketiga sampai kolom ke 3"
      ],
      "metadata": {
        "id": "HRKk0jzfg2BR"
      }
    },
    {
      "cell_type": "code",
      "source": [
        "#matriks dengan array\n",
        "import numpy as np\n",
        "\n",
        "x1 = np.array([[2,3,4],[2,5,6],[6,7,8]])\n",
        "x1"
      ],
      "metadata": {
        "colab": {
          "base_uri": "https://localhost:8080/"
        },
        "id": "dk36l7ECjQpX",
        "outputId": "3ce5078f-b8e1-4d21-9888-c930dcbb479b"
      },
      "execution_count": 4,
      "outputs": [
        {
          "output_type": "execute_result",
          "data": {
            "text/plain": [
              "array([[2, 3, 4],\n",
              "       [2, 5, 6],\n",
              "       [6, 7, 8]])"
            ]
          },
          "metadata": {},
          "execution_count": 4
        }
      ]
    },
    {
      "cell_type": "markdown",
      "source": [
        "Interpretasi :"
      ],
      "metadata": {
        "id": "Ci02p-U5sI9L"
      }
    },
    {
      "cell_type": "code",
      "source": [
        "#matriks dengan list\n",
        "ls = [[2,3,4],\n",
        "      [2,5,6],\n",
        "      [6,7,8]]\n",
        "ls"
      ],
      "metadata": {
        "colab": {
          "base_uri": "https://localhost:8080/"
        },
        "id": "wzHVO2Mfjfw6",
        "outputId": "583f9caf-76ca-42fa-abee-8fabc81944f7"
      },
      "execution_count": 5,
      "outputs": [
        {
          "output_type": "execute_result",
          "data": {
            "text/plain": [
              "[[2, 3, 4], [2, 5, 6], [6, 7, 8]]"
            ]
          },
          "metadata": {},
          "execution_count": 5
        }
      ]
    },
    {
      "cell_type": "code",
      "source": [
        "x2 = np.dot(x1,x1)\n",
        "x2"
      ],
      "metadata": {
        "colab": {
          "base_uri": "https://localhost:8080/"
        },
        "id": "Ou0-44pek5MH",
        "outputId": "1e043790-ec0c-4de4-e917-3bad33e157d2"
      },
      "execution_count": 7,
      "outputs": [
        {
          "output_type": "execute_result",
          "data": {
            "text/plain": [
              "array([[ 34,  49,  58],\n",
              "       [ 50,  73,  86],\n",
              "       [ 74, 109, 130]])"
            ]
          },
          "metadata": {},
          "execution_count": 7
        }
      ]
    },
    {
      "cell_type": "markdown",
      "source": [
        "- Interpretasi coding : menggunakan library numpy dimana dot dengan kita mengalikan matriks x1 dengan x1"
      ],
      "metadata": {
        "id": "sLQAssFkr-1u"
      }
    },
    {
      "cell_type": "markdown",
      "metadata": {
        "id": "KEGjH0_P9D1-"
      },
      "source": [
        "#🧠 LATIHAN SOAL DI KELAS ⏱️"
      ]
    },
    {
      "cell_type": "markdown",
      "metadata": {
        "id": "nt7-fY7s9PgC"
      },
      "source": [
        "Problem (1) Segitiga Paskal"
      ]
    },
    {
      "cell_type": "code",
      "execution_count": 8,
      "metadata": {
        "id": "h7si6sBj9Mr4",
        "colab": {
          "base_uri": "https://localhost:8080/"
        },
        "outputId": "2afb86c6-9868-4156-cb10-c36bb04f3b7c"
      },
      "outputs": [
        {
          "output_type": "stream",
          "name": "stdout",
          "text": [
            "[1]\n",
            "[1, 1]\n",
            "[1, 2, 1]\n",
            "[1, 3, 3, 1]\n",
            "[1, 4, 6, 4, 1]\n"
          ]
        }
      ],
      "source": [
        "n = 5\n",
        "\n",
        "segitiga = [[1] * (i + 1) for i in range(n)]\n",
        "\n",
        "for i in range(2, n):\n",
        "    for j in range(1, i):\n",
        "        segitiga[i][j] = segitiga[i - 1][j - 1] + segitiga[i - 1][j]\n",
        "\n",
        "for baris in segitiga:\n",
        "    print(baris)"
      ]
    },
    {
      "cell_type": "markdown",
      "metadata": {
        "id": "Wou8YKfJ9lvY"
      },
      "source": [
        "**- Interpretasi coding:**\n",
        "\n",
        "Baris pertama hanya memiliki  1 .\n",
        "\n",
        "Baris kedua memiliki  1, 1 .\n",
        "\n",
        "Setiap elemen di baris berikutnya dihitung dengan menjumlahkan dua elemen di atasnya (kiri dan kanan).\n",
        "\n",
        "\n",
        "**- Interpretasi Hasil:** Segitiga Pascal dalam bentuk list"
      ]
    },
    {
      "cell_type": "markdown",
      "metadata": {
        "id": "Eucg6DUK9fgA"
      },
      "source": [
        "Problem (2) Linear Algebra"
      ]
    },
    {
      "cell_type": "code",
      "execution_count": 9,
      "metadata": {
        "colab": {
          "base_uri": "https://localhost:8080/"
        },
        "id": "9uWMEZpP9hlB",
        "outputId": "1ff686a7-639a-4930-eee6-9ca8b98eb762"
      },
      "outputs": [
        {
          "output_type": "stream",
          "name": "stdout",
          "text": [
            "Determinan Matriks A: -2\n",
            "Determinan Matriks B: -21\n"
          ]
        }
      ],
      "source": [
        "#Bagian A\n",
        "\n",
        "import numpy as np\n",
        "\n",
        "# Matriks A\n",
        "A = np.array([[1, 2], [3, 4]])\n",
        "det_A = round(np.linalg.det(A))\n",
        "print(\"Determinan Matriks A:\", det_A)\n",
        "\n",
        "# Matriks B\n",
        "B = np.array([[-1, 3, 0], [2, 1, -5], [1, 4, -2]])\n",
        "det_B = round(np.linalg.det(B))\n",
        "print(\"Determinan Matriks B:\", det_B)"
      ]
    },
    {
      "cell_type": "code",
      "source": [
        "#Bagian B\n",
        "# Matriks C\n",
        "print(\"\\nMatriks C:\")\n",
        "C = np.array([\n",
        "    [1, 3, 7, 2],\n",
        "    [5, 8, -9, 0],\n",
        "    [6, -7, 11, 12]\n",
        "])\n",
        "print(C)\n",
        "\n",
        "# Perhitungan Transpose Matriks C\n",
        "print(\"\\nLangkah-langkah menghitung transpose Matriks C:\")\n",
        "transpose_C = np.transpose(C)\n",
        "for i in range(C.shape[1]):\n",
        "    row = [C[j][i] for j in range(C.shape[0])]\n",
        "    print(f\"Kolom {i + 1} dari Matriks C menjadi Baris {i + 1} di Transpose: {row}\")\n",
        "\n",
        "print(\"\\nTranspose Matriks C:\")\n",
        "print(transpose_C)"
      ],
      "metadata": {
        "colab": {
          "base_uri": "https://localhost:8080/"
        },
        "id": "lo9lJmCDnRjB",
        "outputId": "1ed2cde0-bccb-47fd-bf7b-6fba54e62af6"
      },
      "execution_count": 10,
      "outputs": [
        {
          "output_type": "stream",
          "name": "stdout",
          "text": [
            "\n",
            "Matriks C:\n",
            "[[ 1  3  7  2]\n",
            " [ 5  8 -9  0]\n",
            " [ 6 -7 11 12]]\n",
            "\n",
            "Langkah-langkah menghitung transpose Matriks C:\n",
            "Kolom 1 dari Matriks C menjadi Baris 1 di Transpose: [1, 5, 6]\n",
            "Kolom 2 dari Matriks C menjadi Baris 2 di Transpose: [3, 8, -7]\n",
            "Kolom 3 dari Matriks C menjadi Baris 3 di Transpose: [7, -9, 11]\n",
            "Kolom 4 dari Matriks C menjadi Baris 4 di Transpose: [2, 0, 12]\n",
            "\n",
            "Transpose Matriks C:\n",
            "[[ 1  5  6]\n",
            " [ 3  8 -7]\n",
            " [ 7 -9 11]\n",
            " [ 2  0 12]]\n"
          ]
        }
      ]
    },
    {
      "cell_type": "markdown",
      "metadata": {
        "id": "fM9Fo97_93Ni"
      },
      "source": [
        "**- Interpretasi coding:**\n",
        "\n",
        "1. Determinant Matriks A (2x2):\n",
        "\n",
        "•Rumus:  \\text{det}(A) = a \\cdot d - b \\cdot c\n",
        "\n",
        "•Dicetak langkah-langkah perhitungan secara manual.\n",
        "\n",
        "2. Determinant Matriks B (3x3):\n",
        "\n",
        "•Menggunakan ekspansi kofaktor:\n",
        "\n",
        "{det}(B) = b_{11}(det minor 1) - b_{12}(det minor 2) + b_{13}(det minor 3)\n",
        "\n",
        "•Perhitungan manual untuk minor matriks.\n",
        "\n",
        "3. Transpose Matriks:\n",
        "\n",
        "•Fungsi transpose adalah mengubah baris menjadi kolom.\n",
        "\n",
        "•Dicetak hasil akhir matriks setelah transpose\n",
        "\n",
        "**- Interpretasi Hasil:**\n",
        "\n",
        "- Hasil perhitungan determinan matriks A yaitu -2\n",
        "\n",
        "- Hasil perhitungan determinan matriks B yaitu -21\n",
        "\n",
        "-  Hasil perhitungan tranpose matriks C"
      ]
    },
    {
      "cell_type": "markdown",
      "metadata": {
        "id": "J_75vTSXKFGE"
      },
      "source": [
        "#🏆 POST TEST 🎯"
      ]
    },
    {
      "cell_type": "markdown",
      "metadata": {
        "id": "twhHfrqiKSfV"
      },
      "source": [
        "Problem (1)"
      ]
    },
    {
      "cell_type": "code",
      "execution_count": null,
      "metadata": {
        "id": "hOI8Gls9KV05"
      },
      "outputs": [],
      "source": []
    },
    {
      "cell_type": "markdown",
      "metadata": {
        "id": "t9x---59KWVI"
      },
      "source": [
        "- Interpretasi coding:\n",
        "- Interpretasi hasil:"
      ]
    }
  ],
  "metadata": {
    "colab": {
      "provenance": [],
      "include_colab_link": true
    },
    "kernelspec": {
      "display_name": "Python 3",
      "name": "python3"
    },
    "language_info": {
      "name": "python"
    }
  },
  "nbformat": 4,
  "nbformat_minor": 0
}